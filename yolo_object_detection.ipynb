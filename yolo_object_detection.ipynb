{
  "cells": [
    {
      "cell_type": "markdown",
      "metadata": {
        "id": "view-in-github",
        "colab_type": "text"
      },
      "source": [
        "<a href=\"https://colab.research.google.com/github/anambibi/CSU-S15-118/blob/master/yolo_object_detection.ipynb\" target=\"_parent\"><img src=\"https://colab.research.google.com/assets/colab-badge.svg\" alt=\"Open In Colab\"/></a>"
      ]
    },
    {
      "cell_type": "code",
      "execution_count": null,
      "metadata": {
        "id": "oeYXpFppzJl0",
        "colab": {
          "base_uri": "https://localhost:8080/"
        },
        "outputId": "8a69cc0c-fec7-41bc-8bfe-803d54c128f8"
      },
      "outputs": [
        {
          "output_type": "stream",
          "name": "stdout",
          "text": [
            "Collecting pydash\n",
            "  Downloading pydash-5.1.0-py3-none-any.whl (84 kB)\n",
            "\u001b[?25l\r\u001b[K     |███▉                            | 10 kB 20.8 MB/s eta 0:00:01\r\u001b[K     |███████▊                        | 20 kB 22.4 MB/s eta 0:00:01\r\u001b[K     |███████████▋                    | 30 kB 10.9 MB/s eta 0:00:01\r\u001b[K     |███████████████▍                | 40 kB 8.6 MB/s eta 0:00:01\r\u001b[K     |███████████████████▎            | 51 kB 4.6 MB/s eta 0:00:01\r\u001b[K     |███████████████████████▏        | 61 kB 5.5 MB/s eta 0:00:01\r\u001b[K     |███████████████████████████     | 71 kB 5.5 MB/s eta 0:00:01\r\u001b[K     |██████████████████████████████▉ | 81 kB 6.2 MB/s eta 0:00:01\r\u001b[K     |████████████████████████████████| 84 kB 2.4 MB/s \n",
            "\u001b[?25hInstalling collected packages: pydash\n",
            "Successfully installed pydash-5.1.0\n"
          ]
        }
      ],
      "source": [
        "import cv2\n",
        "from google.colab.patches import cv2_imshow\n",
        "import numpy as np\n",
        "import matplotlib.pyplot as plt\n",
        "!pip install pydash \n",
        "from pydash import py_"
      ]
    },
    {
      "cell_type": "code",
      "execution_count": null,
      "metadata": {
        "id": "XwlnbPWqzJl7",
        "colab": {
          "base_uri": "https://localhost:8080/",
          "height": 182
        },
        "outputId": "b645f7c8-8971-4121-8fc3-9f44949833d7"
      },
      "outputs": [
        {
          "output_type": "error",
          "ename": "error",
          "evalue": "ignored",
          "traceback": [
            "\u001b[0;31m---------------------------------------------------------------------------\u001b[0m",
            "\u001b[0;31merror\u001b[0m                                     Traceback (most recent call last)",
            "\u001b[0;32m<ipython-input-10-54a77b066e52>\u001b[0m in \u001b[0;36m<module>\u001b[0;34m()\u001b[0m\n\u001b[0;32m----> 1\u001b[0;31m \u001b[0mnet\u001b[0m \u001b[0;34m=\u001b[0m \u001b[0mcv2\u001b[0m\u001b[0;34m.\u001b[0m\u001b[0mdnn\u001b[0m\u001b[0;34m.\u001b[0m\u001b[0mreadNetFromDarknet\u001b[0m\u001b[0;34m(\u001b[0m\u001b[0;34m'/content/yolov2.cfg'\u001b[0m\u001b[0;34m,\u001b[0m\u001b[0;34m'/content/yolov3-spp.weights'\u001b[0m\u001b[0;34m)\u001b[0m\u001b[0;34m\u001b[0m\u001b[0;34m\u001b[0m\u001b[0m\n\u001b[0m",
            "\u001b[0;31merror\u001b[0m: OpenCV(4.1.2) /io/opencv/modules/dnn/src/darknet/darknet_importer.cpp:207: error: (-212:Parsing error) Failed to parse NetParameter file: /content/yolov2.cfg in function 'readNetFromDarknet'\n"
          ]
        }
      ],
      "source": [
        "net = cv2.dnn.readNetFromDarknet('/content/yolov2.cfg','/content/yolov3-spp.weights')"
      ]
    },
    {
      "cell_type": "code",
      "execution_count": null,
      "metadata": {
        "id": "Vr7vtotjzJl9"
      },
      "outputs": [],
      "source": [
        "classes = []\n",
        "with open('/content/coco.names','r') as f:\n",
        "  classes = [line.strip() for line in f.readlines()]"
      ]
    },
    {
      "cell_type": "code",
      "source": [
        "classes"
      ],
      "metadata": {
        "colab": {
          "base_uri": "https://localhost:8080/"
        },
        "id": "XFmcaDrQatPy",
        "outputId": "12d28922-6e1b-44f3-e61a-7d8da619398a"
      },
      "execution_count": null,
      "outputs": [
        {
          "output_type": "execute_result",
          "data": {
            "text/plain": [
              "['person',\n",
              " 'bicycle',\n",
              " 'car',\n",
              " 'motorbike',\n",
              " 'aeroplane',\n",
              " 'bus',\n",
              " 'train',\n",
              " 'truck',\n",
              " 'boat',\n",
              " 'traffic light',\n",
              " 'fire hydrant',\n",
              " 'stop sign',\n",
              " 'parking meter',\n",
              " 'bench',\n",
              " 'bird',\n",
              " 'cat',\n",
              " 'dog',\n",
              " 'horse',\n",
              " 'sheep',\n",
              " 'cow',\n",
              " 'elephant',\n",
              " 'bear',\n",
              " 'zebra',\n",
              " 'giraffe',\n",
              " 'backpack',\n",
              " 'umbrella',\n",
              " 'handbag',\n",
              " 'tie',\n",
              " 'suitcase',\n",
              " 'frisbee',\n",
              " 'skis',\n",
              " 'snowboard',\n",
              " 'sports ball',\n",
              " 'kite',\n",
              " 'baseball bat',\n",
              " 'baseball glove',\n",
              " 'skateboard',\n",
              " 'surfboard',\n",
              " 'tennis racket',\n",
              " 'bottle',\n",
              " 'wine glass',\n",
              " 'cup',\n",
              " 'fork',\n",
              " 'knife',\n",
              " 'spoon',\n",
              " 'bowl',\n",
              " 'banana',\n",
              " 'apple',\n",
              " 'sandwich',\n",
              " 'orange',\n",
              " 'broccoli',\n",
              " 'carrot',\n",
              " 'hot dog',\n",
              " 'pizza',\n",
              " 'donut',\n",
              " 'cake',\n",
              " 'chair',\n",
              " 'sofa',\n",
              " 'pottedplant',\n",
              " 'bed',\n",
              " 'diningtable',\n",
              " 'toilet',\n",
              " 'tvmonitor',\n",
              " 'laptop',\n",
              " 'mouse',\n",
              " 'remote',\n",
              " 'keyboard',\n",
              " 'cell phone',\n",
              " 'microwave',\n",
              " 'oven',\n",
              " 'toaster',\n",
              " 'sink',\n",
              " 'refrigerator',\n",
              " 'book',\n",
              " 'clock',\n",
              " 'vase',\n",
              " 'scissors',\n",
              " 'teddy bear',\n",
              " 'hair drier',\n",
              " 'toothbrush']"
            ]
          },
          "metadata": {},
          "execution_count": 98
        }
      ]
    },
    {
      "cell_type": "code",
      "source": [
        "my_img = cv2.imread('/content/catdog1.jpg')\n",
        "my_img = cv2.resize(my_img,(1100,600))\n",
        "print (my_img)"
      ],
      "metadata": {
        "id": "9LoZwLkyZw_d",
        "colab": {
          "base_uri": "https://localhost:8080/"
        },
        "outputId": "bbdd737b-38bb-44db-e491-6b8f7f7975a1"
      },
      "execution_count": null,
      "outputs": [
        {
          "output_type": "stream",
          "name": "stdout",
          "text": [
            "[[[255 255 255]\n",
            "  [255 255 255]\n",
            "  [255 255 255]\n",
            "  ...\n",
            "  [255 255 255]\n",
            "  [255 255 255]\n",
            "  [255 255 255]]\n",
            "\n",
            " [[255 255 255]\n",
            "  [255 255 255]\n",
            "  [255 255 255]\n",
            "  ...\n",
            "  [255 255 255]\n",
            "  [255 255 255]\n",
            "  [255 255 255]]\n",
            "\n",
            " [[255 255 255]\n",
            "  [255 255 255]\n",
            "  [255 255 255]\n",
            "  ...\n",
            "  [255 255 255]\n",
            "  [255 255 255]\n",
            "  [255 255 255]]\n",
            "\n",
            " ...\n",
            "\n",
            " [[255 255 255]\n",
            "  [255 255 255]\n",
            "  [255 255 255]\n",
            "  ...\n",
            "  [211 211 211]\n",
            "  [211 211 211]\n",
            "  [211 211 211]]\n",
            "\n",
            " [[255 255 255]\n",
            "  [255 255 255]\n",
            "  [255 255 255]\n",
            "  ...\n",
            "  [211 211 211]\n",
            "  [211 211 211]\n",
            "  [211 211 211]]\n",
            "\n",
            " [[255 255 255]\n",
            "  [255 255 255]\n",
            "  [255 255 255]\n",
            "  ...\n",
            "  [211 211 211]\n",
            "  [211 211 211]\n",
            "  [211 211 211]]]\n"
          ]
        }
      ]
    },
    {
      "cell_type": "code",
      "source": [
        "plt.imshow(my_img)\n"
      ],
      "metadata": {
        "colab": {
          "base_uri": "https://localhost:8080/",
          "height": 251
        },
        "id": "f_rxDjb6CHZb",
        "outputId": "82c69ea9-bf9f-4974-cdf2-89980979ee6b"
      },
      "execution_count": null,
      "outputs": [
        {
          "output_type": "execute_result",
          "data": {
            "text/plain": [
              "<matplotlib.image.AxesImage at 0x7f45a2d612d0>"
            ]
          },
          "metadata": {},
          "execution_count": 100
        },
        {
          "output_type": "display_data",
          "data": {
            "image/png": "[encoded data removed]",
            "text/plain": [
              "<Figure size 432x288 with 1 Axes>"
            ]
          },
          "metadata": {
            "needs_background": "light"
          }
        }
      ]
    },
    {
      "cell_type": "code",
      "source": [
        "ht, wt , _ = my_img.shape"
      ],
      "metadata": {
        "id": "F6_9OsbOCQCn"
      },
      "execution_count": null,
      "outputs": []
    },
    {
      "cell_type": "code",
      "source": [
        "blob = cv2.dnn.blobFromImage(my_img,1/255,(416,416),(0,0,0),swapRB = True,crop = False)\n",
        "blob\n",
        "blob.shape"
      ],
      "metadata": {
        "colab": {
          "base_uri": "https://localhost:8080/"
        },
        "id": "lHYDRXThbl-K",
        "outputId": "108ccfae-a5ec-4cd0-b416-d435e4de3847"
      },
      "execution_count": null,
      "outputs": [
        {
          "output_type": "execute_result",
          "data": {
            "text/plain": [
              "(1, 3, 416, 416)"
            ]
          },
          "metadata": {},
          "execution_count": 102
        }
      ]
    },
    {
      "cell_type": "code",
      "source": [
        "net.setInput(blob)"
      ],
      "metadata": {
        "id": "wTu-tjHQcw3O"
      },
      "execution_count": null,
      "outputs": []
    },
    {
      "cell_type": "code",
      "source": [
        "last_layer = net.getUnconnectedOutLayersNames()"
      ],
      "metadata": {
        "id": "8oveYxL1eymA"
      },
      "execution_count": null,
      "outputs": []
    },
    {
      "cell_type": "code",
      "source": [
        "layer_out = net.forward(last_layer)"
      ],
      "metadata": {
        "id": "v2UbiBOLfIYt"
      },
      "execution_count": null,
      "outputs": []
    },
    {
      "cell_type": "code",
      "source": [
        "boxes = []\n",
        "confidences = []\n",
        "class_ids = []\n",
        "\n",
        "for output in layer_out:\n",
        "      for detection in output:\n",
        "            score = detection[5:]\n",
        "            class_id = np.argmax(score)\n",
        "            confidence = score[class_id]\n",
        "            if confidence > .6:\n",
        "                center_x = int(detection[0] * wt)\n",
        "                center_y = int(detection[1] * ht)\n",
        "                w = int(detection[2]* wt)\n",
        "                h = int(detection[3]* ht)\n",
        "                x = int(center_x - w/2)\n",
        "                y = int(center_y - h/2)\n",
        "                boxes.append([x,y,w,h])\n",
        "                confidences.append((float(confidence)))\n",
        "                class_ids.append(class_id)"
      ],
      "metadata": {
        "id": "4Ucl3gyUmZK7"
      },
      "execution_count": null,
      "outputs": []
    },
    {
      "cell_type": "code",
      "source": [
        "indexes = cv2.dnn.NMSBoxes(boxes,confidences,0.6,0.5)\n",
        "font = cv2.FONT_HERSHEY_PLAIN\n",
        "colors = np.random.uniform(0,255,size= (len(boxes),3))\n"
      ],
      "metadata": {
        "id": "02gENmnHnCiI",
        "colab": {
          "base_uri": "https://localhost:8080/",
          "height": 200
        },
        "outputId": "1588e668-84d5-411b-b6c2-92fae0d4b9a6"
      },
      "execution_count": null,
      "outputs": [
        {
          "output_type": "error",
          "ename": "NameError",
          "evalue": "ignored",
          "traceback": [
            "\u001b[0;31m---------------------------------------------------------------------------\u001b[0m",
            "\u001b[0;31mNameError\u001b[0m                                 Traceback (most recent call last)",
            "\u001b[0;32m<ipython-input-7-c6bd1259e8ff>\u001b[0m in \u001b[0;36m<module>\u001b[0;34m()\u001b[0m\n\u001b[0;32m----> 1\u001b[0;31m \u001b[0mindexes\u001b[0m \u001b[0;34m=\u001b[0m \u001b[0mcv2\u001b[0m\u001b[0;34m.\u001b[0m\u001b[0mdnn\u001b[0m\u001b[0;34m.\u001b[0m\u001b[0mNMSBoxes\u001b[0m\u001b[0;34m(\u001b[0m\u001b[0mboxes\u001b[0m\u001b[0;34m,\u001b[0m\u001b[0mconfidences\u001b[0m\u001b[0;34m,\u001b[0m\u001b[0;36m0.6\u001b[0m\u001b[0;34m,\u001b[0m\u001b[0;36m0.5\u001b[0m\u001b[0;34m)\u001b[0m\u001b[0;34m\u001b[0m\u001b[0;34m\u001b[0m\u001b[0m\n\u001b[0m\u001b[1;32m      2\u001b[0m \u001b[0mfont\u001b[0m \u001b[0;34m=\u001b[0m \u001b[0mcv2\u001b[0m\u001b[0;34m.\u001b[0m\u001b[0mFONT_HERSHEY_PLAIN\u001b[0m\u001b[0;34m\u001b[0m\u001b[0;34m\u001b[0m\u001b[0m\n\u001b[1;32m      3\u001b[0m \u001b[0mcolors\u001b[0m \u001b[0;34m=\u001b[0m \u001b[0mnp\u001b[0m\u001b[0;34m.\u001b[0m\u001b[0mrandom\u001b[0m\u001b[0;34m.\u001b[0m\u001b[0muniform\u001b[0m\u001b[0;34m(\u001b[0m\u001b[0;36m0\u001b[0m\u001b[0;34m,\u001b[0m\u001b[0;36m255\u001b[0m\u001b[0;34m,\u001b[0m\u001b[0msize\u001b[0m\u001b[0;34m=\u001b[0m \u001b[0;34m(\u001b[0m\u001b[0mlen\u001b[0m\u001b[0;34m(\u001b[0m\u001b[0mboxes\u001b[0m\u001b[0;34m)\u001b[0m\u001b[0;34m,\u001b[0m\u001b[0;36m3\u001b[0m\u001b[0;34m)\u001b[0m\u001b[0;34m)\u001b[0m\u001b[0;34m\u001b[0m\u001b[0;34m\u001b[0m\u001b[0m\n",
            "\u001b[0;31mNameError\u001b[0m: name 'cv2' is not defined"
          ]
        }
      ]
    },
    {
      "cell_type": "code",
      "source": [
        "indexes"
      ],
      "metadata": {
        "colab": {
          "base_uri": "https://localhost:8080/",
          "height": 166
        },
        "id": "3daaMbuhtRuk",
        "outputId": "eff55359-aa0d-49d4-d4ff-f75807c7bad5"
      },
      "execution_count": null,
      "outputs": [
        {
          "output_type": "error",
          "ename": "NameError",
          "evalue": "ignored",
          "traceback": [
            "\u001b[0;31m---------------------------------------------------------------------------\u001b[0m",
            "\u001b[0;31mNameError\u001b[0m                                 Traceback (most recent call last)",
            "\u001b[0;32m<ipython-input-5-4d1fd2de9c67>\u001b[0m in \u001b[0;36m<module>\u001b[0;34m()\u001b[0m\n\u001b[0;32m----> 1\u001b[0;31m \u001b[0mindexes\u001b[0m\u001b[0;34m\u001b[0m\u001b[0;34m\u001b[0m\u001b[0m\n\u001b[0m",
            "\u001b[0;31mNameError\u001b[0m: name 'indexes' is not defined"
          ]
        }
      ]
    },
    {
      "cell_type": "code",
      "source": [
        "for i in indexes():\n",
        "       x,y,w,h = boxes[i]\n",
        "       label = str(classes[class_ids[i]])\n",
        "       confidence = str(round(confidences[i],2))\n",
        "       color = colors[i]\n",
        "       cv2.rectangle(my_img,(x,y),(x+w,y+h),color,2)\n",
        "       cv2.putText(my_img,label +\" \"+confidence,(x,y+20),font,2,(0,0,0),2)\n",
        "\n",
        "cv2_imshow(my_img)\n",
        "cv2.waitKey(0)\n",
        "cv2.destroyAllWindows()"
      ],
      "metadata": {
        "colab": {
          "base_uri": "https://localhost:8080/",
          "height": 235
        },
        "id": "Ce-uZzMY1ITj",
        "outputId": "5d9507ba-60f1-4b2e-96e1-ea34770895dd"
      },
      "execution_count": null,
      "outputs": [
        {
          "output_type": "error",
          "ename": "NameError",
          "evalue": "ignored",
          "traceback": [
            "\u001b[0;31m---------------------------------------------------------------------------\u001b[0m",
            "\u001b[0;31mNameError\u001b[0m                                 Traceback (most recent call last)",
            "\u001b[0;32m<ipython-input-6-659512fd6044>\u001b[0m in \u001b[0;36m<module>\u001b[0;34m()\u001b[0m\n\u001b[0;32m----> 1\u001b[0;31m \u001b[0;32mfor\u001b[0m \u001b[0mi\u001b[0m \u001b[0;32min\u001b[0m \u001b[0mindexes\u001b[0m\u001b[0;34m(\u001b[0m\u001b[0;34m)\u001b[0m\u001b[0;34m:\u001b[0m\u001b[0;34m\u001b[0m\u001b[0;34m\u001b[0m\u001b[0m\n\u001b[0m\u001b[1;32m      2\u001b[0m        \u001b[0mx\u001b[0m\u001b[0;34m,\u001b[0m\u001b[0my\u001b[0m\u001b[0;34m,\u001b[0m\u001b[0mw\u001b[0m\u001b[0;34m,\u001b[0m\u001b[0mh\u001b[0m \u001b[0;34m=\u001b[0m \u001b[0mboxes\u001b[0m\u001b[0;34m[\u001b[0m\u001b[0mi\u001b[0m\u001b[0;34m]\u001b[0m\u001b[0;34m\u001b[0m\u001b[0;34m\u001b[0m\u001b[0m\n\u001b[1;32m      3\u001b[0m        \u001b[0mlabel\u001b[0m \u001b[0;34m=\u001b[0m \u001b[0mstr\u001b[0m\u001b[0;34m(\u001b[0m\u001b[0mclasses\u001b[0m\u001b[0;34m[\u001b[0m\u001b[0mclass_ids\u001b[0m\u001b[0;34m[\u001b[0m\u001b[0mi\u001b[0m\u001b[0;34m]\u001b[0m\u001b[0;34m]\u001b[0m\u001b[0;34m)\u001b[0m\u001b[0;34m\u001b[0m\u001b[0;34m\u001b[0m\u001b[0m\n\u001b[1;32m      4\u001b[0m        \u001b[0mconfidence\u001b[0m \u001b[0;34m=\u001b[0m \u001b[0mstr\u001b[0m\u001b[0;34m(\u001b[0m\u001b[0mround\u001b[0m\u001b[0;34m(\u001b[0m\u001b[0mconfidences\u001b[0m\u001b[0;34m[\u001b[0m\u001b[0mi\u001b[0m\u001b[0;34m]\u001b[0m\u001b[0;34m,\u001b[0m\u001b[0;36m2\u001b[0m\u001b[0;34m)\u001b[0m\u001b[0;34m)\u001b[0m\u001b[0;34m\u001b[0m\u001b[0;34m\u001b[0m\u001b[0m\n\u001b[1;32m      5\u001b[0m        \u001b[0mcolor\u001b[0m \u001b[0;34m=\u001b[0m \u001b[0mcolors\u001b[0m\u001b[0;34m[\u001b[0m\u001b[0mi\u001b[0m\u001b[0;34m]\u001b[0m\u001b[0;34m\u001b[0m\u001b[0;34m\u001b[0m\u001b[0m\n",
            "\u001b[0;31mNameError\u001b[0m: name 'indexes' is not defined"
          ]
        }
      ]
    },
    {
      "cell_type": "code",
      "source": [
        "from google.colab import drive\n",
        "drive.mount('/content/drive') "
      ],
      "metadata": {
        "colab": {
          "base_uri": "https://localhost:8080/"
        },
        "id": "upTeeJpxI4sA",
        "outputId": "3b2723d9-73f1-4200-87a0-b892e5df3acc"
      },
      "execution_count": null,
      "outputs": [
        {
          "output_type": "stream",
          "name": "stdout",
          "text": [
            "Drive already mounted at /content/drive; to attempt to forcibly remount, call drive.mount(\"/content/drive\", force_remount=True).\n"
          ]
        }
      ]
    },
    {
      "cell_type": "code",
      "source": [
        "from google.colab import drive\n",
        "drive.mount('/content/drive')"
      ],
      "metadata": {
        "colab": {
          "base_uri": "https://localhost:8080/"
        },
        "id": "FswEOgeqbl0m",
        "outputId": "0d23dfa9-a846-43e2-d4a9-a0a875d17bfe"
      },
      "execution_count": null,
      "outputs": [
        {
          "output_type": "stream",
          "name": "stdout",
          "text": [
            "Drive already mounted at /content/drive; to attempt to forcibly remount, call drive.mount(\"/content/drive\", force_remount=True).\n"
          ]
        }
      ]
    }
  ],
  "metadata": {
    "kernelspec": {
      "display_name": "Python 3",
      "language": "python",
      "name": "python3"
    },
    "language_info": {
      "codemirror_mode": {
        "name": "ipython",
        "version": 3
      },
      "file_extension": ".py",
      "mimetype": "text/x-python",
      "name": "python",
      "nbconvert_exporter": "python",
      "pygments_lexer": "ipython3",
      "version": "3.7.6"
    },
    "toc": {
      "base_numbering": 1,
      "nav_menu": {},
      "number_sections": true,
      "sideBar": true,
      "skip_h1_title": false,
      "title_cell": "Table of Contents",
      "title_sidebar": "Contents",
      "toc_cell": false,
      "toc_position": {},
      "toc_section_display": true,
      "toc_window_display": false
    },
    "colab": {
      "name": "yolo object detection.ipynb",
      "provenance": [],
      "collapsed_sections": [],
      "include_colab_link": true
    },
    "accelerator": "GPU"
  },
  "nbformat": 4,
  "nbformat_minor": 0
}